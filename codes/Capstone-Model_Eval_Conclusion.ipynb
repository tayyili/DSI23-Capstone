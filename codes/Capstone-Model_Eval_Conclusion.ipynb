{
 "cells": [
  {
   "cell_type": "markdown",
   "metadata": {
    "id": "OhwiCo6guov2"
   },
   "source": [
    "<img src=\"http://imgur.com/1ZcRyrc.png\" style=\"float: left; margin: 20px; height: 55px\">\n",
    "\n",
    "# Capstone: Model_Eval_Conclusion"
   ]
  },
  {
   "cell_type": "markdown",
   "metadata": {
    "id": "YEelOlUsvD-c"
   },
   "source": [
    "## Contents:\n",
    "- [Import Data](#import)\n",
    "- [Modelling with Data Visualisation](#model-visual)\n",
    "  - [Train Test Split](#train-test-split)\n",
    "  - [Baseline](#base)\n",
    "  - [Random Forest](#rf)\n",
    "  - [SVC](#svm)\n",
    "  - [AdaBoost](#ada)\n",
    "  - [XGBoost Classifier](#xgboost)\n",
    "- [Evaluation](#eval)\n",
    "  - [F1 score](#f1-score)\n",
    "  - [Precision-Recall score](#prec-recall)\n",
    "  - [Train and Test Accuracy](#accuracy)\n",
    "  - [Models Comparison](#models)\n",
    "  - [Chosen Model Hyperparameters](#chosen)\n",
    "- [Conclusion and Recommendations](#conclusion-rec)"
   ]
  },
  {
   "cell_type": "markdown",
   "metadata": {
    "id": "_bd1ZZZ6qIX5"
   },
   "source": [
    "**Note: This particular file was created and ran on Google Colab. If required to run on a different platform, do change the file paths accordingly**"
   ]
  },
  {
   "cell_type": "markdown",
   "metadata": {
    "id": "u2hQrZ83voKw"
   },
   "source": [
    "<a name='import'></a>\n",
    "## Import Data"
   ]
  },
  {
   "cell_type": "markdown",
   "metadata": {
    "id": "ozg3HctOvvJ4"
   },
   "source": [
    "### Import Necessary Libraries"
   ]
  },
  {
   "cell_type": "code",
   "execution_count": null,
   "metadata": {
    "colab": {
     "base_uri": "https://localhost:8080/"
    },
    "executionInfo": {
     "elapsed": 11413,
     "status": "ok",
     "timestamp": 1630958217179,
     "user": {
      "displayName": "Yi Li Tay",
      "photoUrl": "https://lh3.googleusercontent.com/a/default-user=s64",
      "userId": "02149373540801561311"
     },
     "user_tz": -480
    },
    "id": "Exm54SpITdgV",
    "outputId": "022c325c-68ee-47ad-91eb-a796de8499b6"
   },
   "outputs": [
    {
     "name": "stdout",
     "output_type": "stream",
     "text": [
      "Mounted at /content/gdrive\n"
     ]
    }
   ],
   "source": [
    "#import all necessary libraries\n",
    "import numpy as np\n",
    "import pandas as pd\n",
    "import matplotlib.pyplot as plt\n",
    "import seaborn as sns\n",
    "\n",
    "#import time to check for time elapsed since running\n",
    "from time import time\n",
    "\n",
    "#modelling purposes\n",
    "from sklearn.preprocessing import StandardScaler\n",
    "from sklearn.linear_model import LogisticRegression\n",
    "from sklearn.ensemble import RandomForestClassifier, AdaBoostClassifier\n",
    "from sklearn.tree import DecisionTreeClassifier\n",
    "from sklearn.svm import SVC\n",
    "from xgboost import XGBClassifier\n",
    "\n",
    "from sklearn.model_selection import train_test_split, RandomizedSearchCV, cross_val_score\n",
    "from sklearn.metrics import confusion_matrix, classification_report\n",
    "from sklearn.metrics import precision_recall_fscore_support as score\n",
    "\n",
    "#mount google drive to pull files\n",
    "from google.colab import drive \n",
    "drive.mount('/content/gdrive')"
   ]
  },
  {
   "cell_type": "markdown",
   "metadata": {
    "id": "S5NCoe3Lv6Ea"
   },
   "source": [
    "### Import Dataset"
   ]
  },
  {
   "cell_type": "code",
   "execution_count": null,
   "metadata": {
    "colab": {
     "base_uri": "https://localhost:8080/",
     "height": 204
    },
    "executionInfo": {
     "elapsed": 414,
     "status": "ok",
     "timestamp": 1630958238040,
     "user": {
      "displayName": "Yi Li Tay",
      "photoUrl": "https://lh3.googleusercontent.com/a/default-user=s64",
      "userId": "02149373540801561311"
     },
     "user_tz": -480
    },
    "id": "O0cLM6Pmv-B8",
    "outputId": "37d9afe4-e214-49aa-efe9-db6cffb6e4b7"
   },
   "outputs": [
    {
     "data": {
      "text/html": [
       "<div>\n",
       "<style scoped>\n",
       "    .dataframe tbody tr th:only-of-type {\n",
       "        vertical-align: middle;\n",
       "    }\n",
       "\n",
       "    .dataframe tbody tr th {\n",
       "        vertical-align: top;\n",
       "    }\n",
       "\n",
       "    .dataframe thead th {\n",
       "        text-align: right;\n",
       "    }\n",
       "</style>\n",
       "<table border=\"1\" class=\"dataframe\">\n",
       "  <thead>\n",
       "    <tr style=\"text-align: right;\">\n",
       "      <th></th>\n",
       "      <th>age</th>\n",
       "      <th>ejection_fraction</th>\n",
       "      <th>serum_creatine</th>\n",
       "      <th>time</th>\n",
       "      <th>death_event</th>\n",
       "    </tr>\n",
       "  </thead>\n",
       "  <tbody>\n",
       "    <tr>\n",
       "      <th>0</th>\n",
       "      <td>75.0</td>\n",
       "      <td>20</td>\n",
       "      <td>1.9</td>\n",
       "      <td>4</td>\n",
       "      <td>1</td>\n",
       "    </tr>\n",
       "    <tr>\n",
       "      <th>1</th>\n",
       "      <td>55.0</td>\n",
       "      <td>38</td>\n",
       "      <td>1.1</td>\n",
       "      <td>6</td>\n",
       "      <td>1</td>\n",
       "    </tr>\n",
       "    <tr>\n",
       "      <th>2</th>\n",
       "      <td>65.0</td>\n",
       "      <td>20</td>\n",
       "      <td>1.3</td>\n",
       "      <td>7</td>\n",
       "      <td>1</td>\n",
       "    </tr>\n",
       "    <tr>\n",
       "      <th>3</th>\n",
       "      <td>50.0</td>\n",
       "      <td>20</td>\n",
       "      <td>1.9</td>\n",
       "      <td>7</td>\n",
       "      <td>1</td>\n",
       "    </tr>\n",
       "    <tr>\n",
       "      <th>4</th>\n",
       "      <td>65.0</td>\n",
       "      <td>20</td>\n",
       "      <td>2.7</td>\n",
       "      <td>8</td>\n",
       "      <td>1</td>\n",
       "    </tr>\n",
       "  </tbody>\n",
       "</table>\n",
       "</div>"
      ],
      "text/plain": [
       "    age  ejection_fraction  serum_creatine  time  death_event\n",
       "0  75.0                 20             1.9     4            1\n",
       "1  55.0                 38             1.1     6            1\n",
       "2  65.0                 20             1.3     7            1\n",
       "3  50.0                 20             1.9     7            1\n",
       "4  65.0                 20             2.7     8            1"
      ]
     },
     "execution_count": 3,
     "metadata": {},
     "output_type": "execute_result"
    }
   ],
   "source": [
    "data_final = pd.read_csv('gdrive/MyDrive/Colab Notebooks/GA-dsi23-capstone/data/data_final.csv')\n",
    "\n",
    "data_final.head()"
   ]
  },
  {
   "cell_type": "markdown",
   "metadata": {
    "id": "HZqrfmKM1Y4y"
   },
   "source": [
    "<a name='model-visual'></a>\n",
    "## Modelling with Data Visualisation"
   ]
  },
  {
   "cell_type": "markdown",
   "metadata": {
    "id": "ADVJjTyz2c0Y"
   },
   "source": [
    "We will run the following models for this project:\n",
    "\n",
    "- [Logistic Regression](#base) --> Baseline model\n",
    "- [Random Forest](#rf)\n",
    "- [SVM](#svm)\n",
    "- [Adaboost (with Decision Tree)](#ada)\n",
    "- [XGBoost Classifier](#xgboost)\n",
    "\n",
    "For model evaluation, the best model will be chosen by comparing the following metrics:\n",
    "- Train-Test Accuracies (check for overfitting/underfitting)\n",
    "- F1 score\n",
    "- Precision-Recall score\n",
    "\n",
    "The metrics will be further discussed in detail under [Evaluation](#eval) once we have collated all the required scores from all the models."
   ]
  },
  {
   "cell_type": "markdown",
   "metadata": {
    "id": "I37Qo6H34pJA"
   },
   "source": [
    "<a name='train-test-split'></a>\n",
    "### Train Test Split"
   ]
  },
  {
   "cell_type": "code",
   "execution_count": null,
   "metadata": {
    "colab": {
     "base_uri": "https://localhost:8080/"
    },
    "executionInfo": {
     "elapsed": 305,
     "status": "ok",
     "timestamp": 1630958242168,
     "user": {
      "displayName": "Yi Li Tay",
      "photoUrl": "https://lh3.googleusercontent.com/a/default-user=s64",
      "userId": "02149373540801561311"
     },
     "user_tz": -480
    },
    "id": "5-WQBYydxuWh",
    "outputId": "a5da90d6-2e16-4c98-b3ab-19b000fa0470"
   },
   "outputs": [
    {
     "name": "stdout",
     "output_type": "stream",
     "text": [
      "X:\n",
      "     age  ejection_fraction  serum_creatine  time\n",
      "0  75.0                 20             1.9     4\n",
      "1  55.0                 38             1.1     6\n",
      "2  65.0                 20             1.3     7\n",
      "3  50.0                 20             1.9     7\n",
      "4  65.0                 20             2.7     8\n",
      "\n",
      "y:\n",
      " 0    1\n",
      "1    1\n",
      "2    1\n",
      "3    1\n",
      "4    1\n",
      "Name: death_event, dtype: int64\n"
     ]
    }
   ],
   "source": [
    "#save needed features into X and the target into y\n",
    "X = data_final.drop(columns='death_event')\n",
    "y = data_final['death_event']\n",
    "\n",
    "print('X:\\n', X.head())\n",
    "print('\\ny:\\n', y.head())"
   ]
  },
  {
   "cell_type": "code",
   "execution_count": null,
   "metadata": {
    "id": "0_WixPW3_Yat"
   },
   "outputs": [],
   "source": [
    "#train test split data and stratify to ensure same proportions of each class\n",
    "X_train, X_test, y_train, y_test = train_test_split(X, y, train_size=0.8, stratify=y)\n",
    "\n",
    "#scale variables in X to ensure same scale\n",
    "ss = StandardScaler()\n",
    "X_train_scale = ss.fit_transform(X_train)\n",
    "X_test_scale = ss.transform(X_test)"
   ]
  },
  {
   "cell_type": "markdown",
   "metadata": {
    "id": "uvd-Jo1_43vp"
   },
   "source": [
    "<a name='base'></a>\n",
    "### Baseline"
   ]
  },
  {
   "cell_type": "markdown",
   "metadata": {
    "id": "HzW_emHvB-tQ"
   },
   "source": [
    "For the Baseline, we will run Logistic Regression with default parameters."
   ]
  },
  {
   "cell_type": "code",
   "execution_count": null,
   "metadata": {
    "colab": {
     "base_uri": "https://localhost:8080/"
    },
    "executionInfo": {
     "elapsed": 7,
     "status": "ok",
     "timestamp": 1630790199538,
     "user": {
      "displayName": "Yi Li Tay",
      "photoUrl": "https://lh3.googleusercontent.com/a/default-user=s64",
      "userId": "02149373540801561311"
     },
     "user_tz": -480
    },
    "id": "NdxI5xAy515D",
    "outputId": "6faa512c-201d-4dd7-ff6e-5639382f939f"
   },
   "outputs": [
    {
     "name": "stdout",
     "output_type": "stream",
     "text": [
      "Baseline Train Accuracy: 0.82\n",
      "Baseline Test Accuracy: 0.833\n",
      "\n",
      "Baseline Classification Report:\n",
      "               precision    recall  f1-score   support\n",
      "\n",
      "           0       0.86      0.90      0.88        41\n",
      "           1       0.76      0.68      0.72        19\n",
      "\n",
      "    accuracy                           0.83        60\n",
      "   macro avg       0.81      0.79      0.80        60\n",
      "weighted avg       0.83      0.83      0.83        60\n",
      "\n"
     ]
    }
   ],
   "source": [
    "#instantiate logistic regression for baseline model\n",
    "base = LogisticRegression()\n",
    "\n",
    "#fit model to training data\n",
    "base.fit(X_train_scale, y_train)\n",
    "\n",
    "#predict classification using model\n",
    "base_ypred = base.predict(X_test_scale)\n",
    "\n",
    "#get train and test accuracy score of baseline\n",
    "base_train_acc = base.score(X_train_scale, y_train).round(3)\n",
    "base_test_acc = base.score(X_test_scale, y_test).round(3)\n",
    "print('Baseline Train Accuracy:', base_train_acc)\n",
    "print('Baseline Test Accuracy:', base_test_acc)\n",
    "\n",
    "#get classification report for y_pred compared to y_test\n",
    "base_report = classification_report(y_test, base_ypred)\n",
    "print('\\nBaseline Classification Report:\\n', base_report)\n"
   ]
  },
  {
   "cell_type": "code",
   "execution_count": null,
   "metadata": {
    "colab": {
     "base_uri": "https://localhost:8080/",
     "height": 530
    },
    "executionInfo": {
     "elapsed": 1456,
     "status": "ok",
     "timestamp": 1630796214590,
     "user": {
      "displayName": "Yi Li Tay",
      "photoUrl": "https://lh3.googleusercontent.com/a/default-user=s64",
      "userId": "02149373540801561311"
     },
     "user_tz": -480
    },
    "id": "wqrdl9kbEP7n",
    "outputId": "7c94801e-1316-4c99-84b8-d3aca3d6c35c"
   },
   "outputs": [
    {
     "data": {
      "image/png": "[encoded data removed]",
      "text/plain": [
       "<Figure size 576x576 with 2 Axes>"
      ]
     },
     "metadata": {
      "needs_background": "light"
     },
     "output_type": "display_data"
    }
   ],
   "source": [
    "#confusion matrix of baseline model\n",
    "base_cmatrix = confusion_matrix(y_test, base_ypred)\n",
    "\n",
    "#pulling individual classification report scores\n",
    "#each of these variables will return 2 values, 1 for each class --> the one we want is index 1 (predicted death by heart failure)\n",
    "base_prec, base_recall, base_f1, base_supp = score(y_test, base_ypred)\n",
    "\n",
    "#setting visualisations for confusion matrix\n",
    "base_cmatrix_vis = []\n",
    "for index, value in enumerate(base_cmatrix):\n",
    "  if index == 0:\n",
    "    base_cmatrix_vis.append(['TN = ' + str(value[0]), 'FP = ' + str(value[1])])\n",
    "  if index == 1:\n",
    "    base_cmatrix_vis.append(['FN = ' + str(value[0]), 'TP = ' + str(value[1])])\n",
    "\n",
    "#plot confusion matrix\n",
    "plt.figure(figsize=(8, 8));\n",
    "\n",
    "sns.heatmap(base_cmatrix, annot=np.array(base_cmatrix_vis), fmt='', \n",
    "            annot_kws={'size': 15}, linewidths=0.5, square=True, cmap='Blues', \n",
    "            xticklabels = ['Survive', 'Decease'], \n",
    "            yticklabels = ['Survive', 'Decease']\n",
    "            );\n",
    "\n",
    "plt.xlabel('Predicted Label', fontsize=15);\n",
    "plt.ylabel('Actual Label', fontsize=15);\n",
    "plt.title('Baseline Confusion Matrix\\n' + \n",
    "          'F1 score: {:.1f}'.format(base_f1[1]) + \n",
    "          '\\nPrecision: {:.1f}'.format(base_prec[1]) + \n",
    "          '\\nRecall: {:.1f}'.format(base_recall[1]) + '\\n', \n",
    "          size=17\n",
    "          );\n",
    "plt.tick_params(labelsize=13);\n",
    "\n",
    "plt.savefig('gdrive/MyDrive/Colab Notebooks/GA-dsi23-capstone/plots/base_confusion', bbox_inches=\"tight\", dpi=300)\n",
    "\n",
    "plt.show();"
   ]
  },
  {
   "cell_type": "markdown",
   "metadata": {
    "id": "dRdebQ2jhwsI"
   },
   "source": [
    "The Baseline model sees higher Train Accuracy than test Accuracy, signifying that it is overfitted.\n",
    "\n",
    "Precision score of the model is at 0.71 and Recall score of the model is at 0.69.\n",
    "The weighted average of the Precision-Recall score, the F1 score, is 0.70 which indicates that the model is moderately good in performance.\n",
    "\n",
    "We will proceed to run different models with tuned hyperparameters to see if any of the models are able to beat this baseline."
   ]
  },
  {
   "cell_type": "markdown",
   "metadata": {
    "id": "aPHP8e-u44Ei"
   },
   "source": [
    "<a name='rf'></a>\n",
    "### Random Forest"
   ]
  },
  {
   "cell_type": "code",
   "execution_count": null,
   "metadata": {
    "colab": {
     "base_uri": "https://localhost:8080/"
    },
    "executionInfo": {
     "elapsed": 186710,
     "status": "ok",
     "timestamp": 1630792510541,
     "user": {
      "displayName": "Yi Li Tay",
      "photoUrl": "https://lh3.googleusercontent.com/a/default-user=s64",
      "userId": "02149373540801561311"
     },
     "user_tz": -480
    },
    "id": "K1lh_CKV_64e",
    "outputId": "c02db255-1ecd-4b29-ef28-7a9eb4313467"
   },
   "outputs": [
    {
     "name": "stdout",
     "output_type": "stream",
     "text": [
      "Time taken to run: 186.41 seconds\n"
     ]
    }
   ],
   "source": [
    "#run start time in seconds\n",
    "start = time()\n",
    "\n",
    "# instantiate random forest\n",
    "rf = RandomForestClassifier()\n",
    "\n",
    "# list of params to run through randomizedsearchcv\n",
    "rf_params = {'n_estimators': [int(value) for value in np.linspace(start=100, stop=500, num=10)], \n",
    "             'max_depth': [int(value) for value in np.linspace(start=10, stop=200, num=10)]\n",
    "             }\n",
    "\n",
    "# instantiate randomizedsearchcv\n",
    "random_rf = RandomizedSearchCV(rf, param_distributions=rf_params, cv=5, n_iter=100, n_jobs=-1)\n",
    "\n",
    "# fit the data into randomizedsearchcv\n",
    "random_rf.fit(X_train_scale, y_train)\n",
    "\n",
    "# amount of time taken to run in seconds\n",
    "time_taken = time() - start\n",
    "print('Time taken to run:', round(time_taken, 2), 'seconds')\n"
   ]
  },
  {
   "cell_type": "code",
   "execution_count": null,
   "metadata": {
    "colab": {
     "base_uri": "https://localhost:8080/"
    },
    "executionInfo": {
     "elapsed": 20,
     "status": "ok",
     "timestamp": 1630792510541,
     "user": {
      "displayName": "Yi Li Tay",
      "photoUrl": "https://lh3.googleusercontent.com/a/default-user=s64",
      "userId": "02149373540801561311"
     },
     "user_tz": -480
    },
    "id": "BVfKyF0f_6-P",
    "outputId": "6bfcba30-6b1d-4f9b-c98d-0391409c9b23"
   },
   "outputs": [
    {
     "name": "stdout",
     "output_type": "stream",
     "text": [
      "Best Parameters: {'n_estimators': 188, 'max_depth': 94}\n"
     ]
    }
   ],
   "source": [
    "# The best params to used for the model\n",
    "random_rf_best = random_rf.best_params_\n",
    "\n",
    "print('Best Parameters:', random_rf_best)"
   ]
  },
  {
   "cell_type": "markdown",
   "metadata": {
    "id": "fHEwjf6PJ18W"
   },
   "source": [
    "The optimal hyperparameters found for Random Forest are:\n",
    "- n_estimators = 188\n",
    "- max_depth = 94\n",
    "\n",
    "We will run the model once again with the optimised values and pull out the required scores for evaluation and data visualisation."
   ]
  },
  {
   "cell_type": "code",
   "execution_count": null,
   "metadata": {
    "colab": {
     "base_uri": "https://localhost:8080/"
    },
    "executionInfo": {
     "elapsed": 3709,
     "status": "ok",
     "timestamp": 1630792656276,
     "user": {
      "displayName": "Yi Li Tay",
      "photoUrl": "https://lh3.googleusercontent.com/a/default-user=s64",
      "userId": "02149373540801561311"
     },
     "user_tz": -480
    },
    "id": "p4Asi02-Ljzl",
    "outputId": "43dacb64-5e8f-44e8-fcc7-f825b3390ba7"
   },
   "outputs": [
    {
     "name": "stdout",
     "output_type": "stream",
     "text": [
      "RandomForestClassifier(bootstrap=True, ccp_alpha=0.0, class_weight=None,\n",
      "                       criterion='gini', max_depth=94, max_features='auto',\n",
      "                       max_leaf_nodes=None, max_samples=None,\n",
      "                       min_impurity_decrease=0.0, min_impurity_split=None,\n",
      "                       min_samples_leaf=1, min_samples_split=2,\n",
      "                       min_weight_fraction_leaf=0.0, n_estimators=188,\n",
      "                       n_jobs=None, oob_score=False, random_state=None,\n",
      "                       verbose=0, warm_start=False)\n",
      "\n",
      "Random Forest Train Accuracy: 0.795\n",
      "Random Forest Test Accuracy: 0.783\n",
      "\n",
      "Random Forest Classification Report:\n",
      "               precision    recall  f1-score   support\n",
      "\n",
      "           0       0.92      0.88      0.90        41\n",
      "           1       0.76      0.84      0.80        19\n",
      "\n",
      "    accuracy                           0.87        60\n",
      "   macro avg       0.84      0.86      0.85        60\n",
      "weighted avg       0.87      0.87      0.87        60\n",
      "\n"
     ]
    }
   ],
   "source": [
    "#instantiate random forest model\n",
    "rf_optimal = RandomForestClassifier(n_estimators=188, max_depth=94)\n",
    "\n",
    "#fit model to training data\n",
    "rf_optimal.fit(X_train_scale, y_train)\n",
    "\n",
    "#print model name to ensure it is working\n",
    "print(rf_optimal)\n",
    "\n",
    "#predict classification using model\n",
    "rf_ypred = rf_optimal.predict(X_test_scale)\n",
    "\n",
    "#get train and test accuracy score of random forest through cross validation with cv=5\n",
    "rf_train_acc = cross_val_score(rf_optimal, X_train_scale, y_train, cv=5).mean().round(3)\n",
    "rf_test_acc = cross_val_score(rf_optimal, X_test_scale, y_test, cv=5).mean().round(3)\n",
    "print('\\nRandom Forest Train Accuracy:', rf_train_acc)\n",
    "print('Random Forest Test Accuracy:', rf_test_acc)\n",
    "\n",
    "#get classification report for y_pred compared to y_test\n",
    "rf_report = classification_report(y_test, rf_ypred)\n",
    "print('\\nRandom Forest Classification Report:\\n', rf_report)\n"
   ]
  },
  {
   "cell_type": "code",
   "execution_count": null,
   "metadata": {
    "colab": {
     "base_uri": "https://localhost:8080/",
     "height": 530
    },
    "executionInfo": {
     "elapsed": 1235,
     "status": "ok",
     "timestamp": 1630796243354,
     "user": {
      "displayName": "Yi Li Tay",
      "photoUrl": "https://lh3.googleusercontent.com/a/default-user=s64",
      "userId": "02149373540801561311"
     },
     "user_tz": -480
    },
    "id": "saqTtgpv_uWZ",
    "outputId": "db3091f7-2436-4241-becc-d014a037ba37"
   },
   "outputs": [
    {
     "data": {
      "image/png": "[encoded data removed]",
      "text/plain": [
       "<Figure size 576x576 with 2 Axes>"
      ]
     },
     "metadata": {
      "needs_background": "light"
     },
     "output_type": "display_data"
    }
   ],
   "source": [
    "#confusion matrix of random forest model\n",
    "rf_cmatrix = confusion_matrix(y_test, rf_ypred)\n",
    "\n",
    "#pulling individual classification report scores\n",
    "#each of these variables will return 2 values, 1 for each class --> the one we want is index 1 (predicted death by heart failure)\n",
    "rf_prec, rf_recall, rf_f1, rf_supp = score(y_test, rf_ypred)\n",
    "\n",
    "#setting visualisations for confusion matrix\n",
    "rf_cmatrix_vis = []\n",
    "for index, value in enumerate(rf_cmatrix):\n",
    "  if index == 0:\n",
    "    rf_cmatrix_vis.append(['TN = ' + str(value[0]), 'FP = ' + str(value[1])])\n",
    "  if index == 1:\n",
    "    rf_cmatrix_vis.append(['FN = ' + str(value[0]), 'TP = ' + str(value[1])])\n",
    "\n",
    "#plot confusion matrix\n",
    "plt.figure(figsize=(8, 8));\n",
    "\n",
    "sns.heatmap(rf_cmatrix, annot=np.array(rf_cmatrix_vis), fmt='', \n",
    "            annot_kws={'size': 15}, linewidths=0.5, square=True, cmap='Blues', \n",
    "            xticklabels = ['Survive', 'Decease'], \n",
    "            yticklabels = ['Survive', 'Decease']\n",
    "            );\n",
    "\n",
    "plt.xlabel('Predicted Label', fontsize=15);\n",
    "plt.ylabel('Actual Label', fontsize=15);\n",
    "plt.title('Random Forest Confusion Matrix\\n' + \n",
    "          'F1 score: {:.1f}'.format(rf_f1[1]) + \n",
    "          '\\nPrecision: {:.1f}'.format(rf_prec[1]) + \n",
    "          '\\nRecall: {:.1f}'.format(rf_recall[1]) + '\\n', \n",
    "          size=17\n",
    "          );\n",
    "plt.tick_params(labelsize=13);\n",
    "\n",
    "plt.savefig('gdrive/MyDrive/Colab Notebooks/GA-dsi23-capstone/plots/rf_confusion', bbox_inches=\"tight\", dpi=300)\n",
    "\n",
    "plt.show();"
   ]
  },
  {
   "cell_type": "markdown",
   "metadata": {
    "id": "J33uGCo644Mx"
   },
   "source": [
    "<a name='svm'></a>\n",
    "### SVC"
   ]
  },
  {
   "cell_type": "code",
   "execution_count": null,
   "metadata": {
    "colab": {
     "base_uri": "https://localhost:8080/"
    },
    "executionInfo": {
     "elapsed": 2556,
     "status": "ok",
     "timestamp": 1630791992151,
     "user": {
      "displayName": "Yi Li Tay",
      "photoUrl": "https://lh3.googleusercontent.com/a/default-user=s64",
      "userId": "02149373540801561311"
     },
     "user_tz": -480
    },
    "id": "kdCie0kJTzBA",
    "outputId": "58f781be-8d99-4423-c90a-51a286355818"
   },
   "outputs": [
    {
     "name": "stdout",
     "output_type": "stream",
     "text": [
      "Time taken to run: 1.94 seconds\n"
     ]
    }
   ],
   "source": [
    "#run start time in seconds\n",
    "start = time()\n",
    "\n",
    "# instantiate svm\n",
    "svm = SVC()\n",
    "\n",
    "# list of params to run through randomizedsearchcv\n",
    "svm_params = {'C': [value.round(3) for value in np.linspace(start=0.0001, stop=5, num=100)], \n",
    "              'kernel': ['linear', 'poly', 'rbf'],\n",
    "              'gamma': [value.round(3) for value in np.linspace(start=0.0001, stop=1, num=100)]\n",
    "              }\n",
    "\n",
    "# instantiate randomizedsearchcv\n",
    "random_svm = RandomizedSearchCV(svm, param_distributions=svm_params, n_iter=100, cv=5, n_jobs=-1)\n",
    "\n",
    "# Fit the data into randomizedsearchcv\n",
    "random_svm.fit(X_train_scale, y_train)\n",
    "\n",
    "# amount of time taken to run in seconds\n",
    "time_taken = time() - start\n",
    "print('Time taken to run:', round(time_taken, 2), 'seconds')\n"
   ]
  },
  {
   "cell_type": "code",
   "execution_count": null,
   "metadata": {
    "colab": {
     "base_uri": "https://localhost:8080/"
    },
    "executionInfo": {
     "elapsed": 4,
     "status": "ok",
     "timestamp": 1630791992151,
     "user": {
      "displayName": "Yi Li Tay",
      "photoUrl": "https://lh3.googleusercontent.com/a/default-user=s64",
      "userId": "02149373540801561311"
     },
     "user_tz": -480
    },
    "id": "i-NYGRaCTzBB",
    "outputId": "6bfc3e64-28ec-4528-d425-fdc0bc4d40b2"
   },
   "outputs": [
    {
     "name": "stdout",
     "output_type": "stream",
     "text": [
      "Best Parameters: {'kernel': 'linear', 'gamma': 0.687, 'C': 1.212}\n"
     ]
    }
   ],
   "source": [
    "# The best params to used for the model\n",
    "random_svm_best = random_svm.best_params_\n",
    "\n",
    "print('Best Parameters:', random_svm_best)"
   ]
  },
  {
   "cell_type": "markdown",
   "metadata": {
    "id": "KHtIDn_KTzBB"
   },
   "source": [
    "The optimal hyperparameters found for SVM are:\n",
    "- kernel = 'linear'\n",
    "- gamma = 0.687\n",
    "- C = 1.212\n",
    "\n",
    "We will run the model once again with the optimised values and pull out the required scores for evaluation and data visualisation."
   ]
  },
  {
   "cell_type": "code",
   "execution_count": null,
   "metadata": {
    "colab": {
     "base_uri": "https://localhost:8080/"
    },
    "executionInfo": {
     "elapsed": 310,
     "status": "ok",
     "timestamp": 1630791999437,
     "user": {
      "displayName": "Yi Li Tay",
      "photoUrl": "https://lh3.googleusercontent.com/a/default-user=s64",
      "userId": "02149373540801561311"
     },
     "user_tz": -480
    },
    "id": "hvnDATd6Tx3p",
    "outputId": "30b8b94a-9780-464a-944c-b347a4da05c1"
   },
   "outputs": [
    {
     "name": "stdout",
     "output_type": "stream",
     "text": [
      "SVC(C=1.212, break_ties=False, cache_size=200, class_weight=None, coef0=0.0,\n",
      "    decision_function_shape='ovr', degree=3, gamma=0.687, kernel='linear',\n",
      "    max_iter=-1, probability=False, random_state=None, shrinking=True,\n",
      "    tol=0.001, verbose=False)\n",
      "\n",
      "SVM Train Accuracy: 0.816\n",
      "SVM Forest Test Accuracy: 0.85\n",
      "\n",
      "SVM Classification Report:\n",
      "               precision    recall  f1-score   support\n",
      "\n",
      "           0       0.88      0.90      0.89        41\n",
      "           1       0.78      0.74      0.76        19\n",
      "\n",
      "    accuracy                           0.85        60\n",
      "   macro avg       0.83      0.82      0.82        60\n",
      "weighted avg       0.85      0.85      0.85        60\n",
      "\n"
     ]
    }
   ],
   "source": [
    "#instantiate svm\n",
    "svm_optimal = SVC(kernel='linear', gamma=0.687, C=1.212)\n",
    "\n",
    "#fit model to training data\n",
    "svm_optimal.fit(X_train_scale, y_train)\n",
    "\n",
    "#print model name to ensure it is working\n",
    "print(svm_optimal)\n",
    "\n",
    "#predict classification using model\n",
    "svm_ypred = svm_optimal.predict(X_test_scale)\n",
    "\n",
    "#get train and test accuracy score of svm through cross validation with cv=5\n",
    "svm_train_acc = cross_val_score(svm_optimal, X_train_scale, y_train, cv=5).mean().round(3)\n",
    "svm_test_acc = cross_val_score(svm_optimal, X_test_scale, y_test, cv=5).mean().round(3)\n",
    "print('\\nSVM Train Accuracy:', svm_train_acc)\n",
    "print('SVM Forest Test Accuracy:', svm_test_acc)\n",
    "\n",
    "#get classification report for y_pred compared to y_test\n",
    "svm_report = classification_report(y_test, svm_ypred)\n",
    "print('\\nSVM Classification Report:\\n', svm_report)"
   ]
  },
  {
   "cell_type": "code",
   "execution_count": null,
   "metadata": {
    "colab": {
     "base_uri": "https://localhost:8080/",
     "height": 530
    },
    "executionInfo": {
     "elapsed": 1645,
     "status": "ok",
     "timestamp": 1630796283557,
     "user": {
      "displayName": "Yi Li Tay",
      "photoUrl": "https://lh3.googleusercontent.com/a/default-user=s64",
      "userId": "02149373540801561311"
     },
     "user_tz": -480
    },
    "id": "GR3Ye_X0Tx5r",
    "outputId": "b707cd2e-d79b-4d4f-9ec3-a9b990121263"
   },
   "outputs": [
    {
     "data": {
      "image/png": "[encoded data removed]",
      "text/plain": [
       "<Figure size 576x576 with 2 Axes>"
      ]
     },
     "metadata": {
      "needs_background": "light"
     },
     "output_type": "display_data"
    }
   ],
   "source": [
    "#confusion matrix of svm model\n",
    "svm_cmatrix = confusion_matrix(y_test, svm_ypred)\n",
    "\n",
    "#pulling individual classification report scores\n",
    "#each of these variables will return 2 values, 1 for each class --> the one we want is index 1 (predicted death by heart failure)\n",
    "svm_prec, svm_recall, svm_f1, svm_supp = score(y_test, svm_ypred)\n",
    "\n",
    "#setting visualisations for confusion matrix\n",
    "svm_cmatrix_vis = []\n",
    "for index, value in enumerate(svm_cmatrix):\n",
    "  if index == 0:\n",
    "    svm_cmatrix_vis.append(['TN = ' + str(value[0]), 'FP = ' + str(value[1])])\n",
    "  if index == 1:\n",
    "    svm_cmatrix_vis.append(['FN = ' + str(value[0]), 'TP = ' + str(value[1])])\n",
    "\n",
    "#plot confusion matrix\n",
    "plt.figure(figsize=(8, 8));\n",
    "\n",
    "sns.heatmap(svm_cmatrix, annot=np.array(svm_cmatrix_vis), fmt='', \n",
    "            annot_kws={'size': 15}, linewidths=0.5, square=True, cmap='Blues', \n",
    "            xticklabels = ['Survive', 'Decease'], \n",
    "            yticklabels = ['Survive', 'Decease']\n",
    "            );\n",
    "\n",
    "plt.xlabel('Predicted Label', fontsize=15);\n",
    "plt.ylabel('Actual Label', fontsize=15);\n",
    "plt.title('SVM Confusion Matrix\\n' + \n",
    "          'F1 score: {:.1f}'.format(svm_f1[1]) + \n",
    "          '\\nPrecision: {:.1f}'.format(svm_prec[1]) + \n",
    "          '\\nRecall: {:.1f}'.format(svm_recall[1]) + '\\n', \n",
    "          size=17\n",
    "          );\n",
    "plt.tick_params(labelsize=13);\n",
    "\n",
    "plt.savefig('gdrive/MyDrive/Colab Notebooks/GA-dsi23-capstone/plots/svm_confusion', bbox_inches=\"tight\", dpi=300)\n",
    "\n",
    "plt.show();"
   ]
  },
  {
   "cell_type": "markdown",
   "metadata": {
    "id": "ht8-OFdW44PZ"
   },
   "source": [
    "<a name='ada'></a>\n",
    "### AdaBoost (with Decision Tree)"
   ]
  },
  {
   "cell_type": "code",
   "execution_count": null,
   "metadata": {
    "colab": {
     "base_uri": "https://localhost:8080/"
    },
    "executionInfo": {
     "elapsed": 1363,
     "status": "ok",
     "timestamp": 1630792080996,
     "user": {
      "displayName": "Yi Li Tay",
      "photoUrl": "https://lh3.googleusercontent.com/a/default-user=s64",
      "userId": "02149373540801561311"
     },
     "user_tz": -480
    },
    "id": "KlA1VlaI53Aa",
    "outputId": "d1491838-5040-4917-be9d-31ad8b6f415e"
   },
   "outputs": [
    {
     "name": "stdout",
     "output_type": "stream",
     "text": [
      "Time taken to run: 1.38 seconds\n"
     ]
    }
   ],
   "source": [
    "#run start time in seconds\n",
    "start = time()\n",
    "\n",
    "# instantiate adaboost\n",
    "ada = AdaBoostClassifier(base_estimator=DecisionTreeClassifier())\n",
    "\n",
    "# list of params to run through randomizedsearchcv\n",
    "ada_params = {'n_estimators': [int(value) for value in np.linspace(start=2, stop=100, num=10)], \n",
    "              'learning_rate': [value.round(3) for value in np.linspace(start=0.0, stop=1.0, num=10)]\n",
    "              }\n",
    "\n",
    "# instantiate randomizedsearchcv\n",
    "random_ada = RandomizedSearchCV(ada, param_distributions=ada_params, n_iter=100, cv=5, n_jobs=-1)\n",
    "\n",
    "# Fit the data into randomizedsearchcv\n",
    "random_ada.fit(X_train_scale, y_train)\n",
    "\n",
    "# amount of time taken to run in seconds\n",
    "time_taken = time() - start\n",
    "print('Time taken to run:', round(time_taken, 2), 'seconds')\n"
   ]
  },
  {
   "cell_type": "code",
   "execution_count": null,
   "metadata": {
    "colab": {
     "base_uri": "https://localhost:8080/"
    },
    "executionInfo": {
     "elapsed": 3,
     "status": "ok",
     "timestamp": 1630792080996,
     "user": {
      "displayName": "Yi Li Tay",
      "photoUrl": "https://lh3.googleusercontent.com/a/default-user=s64",
      "userId": "02149373540801561311"
     },
     "user_tz": -480
    },
    "id": "y0JhWsDdzWC5",
    "outputId": "51298c1b-15a5-4a39-e505-23cbb9a2e3a8"
   },
   "outputs": [
    {
     "name": "stdout",
     "output_type": "stream",
     "text": [
      "Best Parameters: {'n_estimators': 23, 'learning_rate': 0.111}\n"
     ]
    }
   ],
   "source": [
    "# The best params to used for the model\n",
    "random_ada_best = random_ada.best_params_\n",
    "\n",
    "print('Best Parameters:', random_ada_best)"
   ]
  },
  {
   "cell_type": "markdown",
   "metadata": {
    "id": "zp0v3TCL0iPH"
   },
   "source": [
    "The optimal hyperparameters found for AdaBoost are:\n",
    "- n_estimators = 23\n",
    "- learning_rate = 0.111\n",
    "\n",
    "We will run the model once again with the optimised values and pull out the required scores for evaluation and data visualisation."
   ]
  },
  {
   "cell_type": "code",
   "execution_count": null,
   "metadata": {
    "colab": {
     "base_uri": "https://localhost:8080/"
    },
    "executionInfo": {
     "elapsed": 474,
     "status": "ok",
     "timestamp": 1630792086060,
     "user": {
      "displayName": "Yi Li Tay",
      "photoUrl": "https://lh3.googleusercontent.com/a/default-user=s64",
      "userId": "02149373540801561311"
     },
     "user_tz": -480
    },
    "id": "8yVZ5vRKTpbo",
    "outputId": "403ea33e-dac9-4610-db6c-74ca0cc76e00"
   },
   "outputs": [
    {
     "name": "stdout",
     "output_type": "stream",
     "text": [
      "AdaBoostClassifier(algorithm='SAMME.R', base_estimator=None,\n",
      "                   learning_rate=0.111, n_estimators=23, random_state=None)\n",
      "\n",
      "AdaBoost Train Accuracy: 0.849\n",
      "AdaBoost Test Accuracy: 0.733\n",
      "\n",
      "AdaBoost Classification Report:\n",
      "               precision    recall  f1-score   support\n",
      "\n",
      "           0       0.85      0.95      0.90        41\n",
      "           1       0.86      0.63      0.73        19\n",
      "\n",
      "    accuracy                           0.85        60\n",
      "   macro avg       0.85      0.79      0.81        60\n",
      "weighted avg       0.85      0.85      0.84        60\n",
      "\n"
     ]
    }
   ],
   "source": [
    "#instantiate adaboost\n",
    "ada_optimal = AdaBoostClassifier(n_estimators=23, \n",
    "                                 learning_rate=0.111\n",
    "                                 )\n",
    "\n",
    "#fit model to training data\n",
    "ada_optimal.fit(X_train_scale, y_train)\n",
    "\n",
    "#print model name to ensure it is working\n",
    "print(ada_optimal)\n",
    "\n",
    "#predict classification using model\n",
    "ada_ypred = ada_optimal.predict(X_test_scale)\n",
    "\n",
    "#get train and test accuracy score of adaboost through cross validation with cv=5\n",
    "ada_train_acc = cross_val_score(ada_optimal, X_train_scale, y_train, cv=5).mean().round(3)\n",
    "ada_test_acc = cross_val_score(ada_optimal, X_test_scale, y_test, cv=5).mean().round(3)\n",
    "print('\\nAdaBoost Train Accuracy:', ada_train_acc)\n",
    "print('AdaBoost Test Accuracy:', ada_test_acc)\n",
    "\n",
    "#get classification report for y_pred compared to y_test\n",
    "ada_report = classification_report(y_test, ada_ypred)\n",
    "print('\\nAdaBoost Classification Report:\\n', ada_report)"
   ]
  },
  {
   "cell_type": "code",
   "execution_count": null,
   "metadata": {
    "colab": {
     "base_uri": "https://localhost:8080/",
     "height": 530
    },
    "executionInfo": {
     "elapsed": 1313,
     "status": "ok",
     "timestamp": 1630796294113,
     "user": {
      "displayName": "Yi Li Tay",
      "photoUrl": "https://lh3.googleusercontent.com/a/default-user=s64",
      "userId": "02149373540801561311"
     },
     "user_tz": -480
    },
    "id": "3CwS2Uh4zV3J",
    "outputId": "da260b2a-7589-42fe-85ea-a9d5f8e35290"
   },
   "outputs": [
    {
     "data": {
      "image/png": "[encoded data removed]",
      "text/plain": [
       "<Figure size 576x576 with 2 Axes>"
      ]
     },
     "metadata": {
      "needs_background": "light"
     },
     "output_type": "display_data"
    }
   ],
   "source": [
    "#confusion matrix of adaboost model\n",
    "ada_cmatrix = confusion_matrix(y_test, ada_ypred)\n",
    "\n",
    "#pulling individual classification report scores\n",
    "#each of these variables will return 2 values, 1 for each class --> the one we want is index 1 (predicted death by heart failure)\n",
    "ada_prec, ada_recall, ada_f1, ada_supp = score(y_test, ada_ypred)\n",
    "\n",
    "#setting visualisations for confusion matrix\n",
    "ada_cmatrix_vis = []\n",
    "for index, value in enumerate(ada_cmatrix):\n",
    "  if index == 0:\n",
    "    ada_cmatrix_vis.append(['TN = ' + str(value[0]), 'FP = ' + str(value[1])])\n",
    "  if index == 1:\n",
    "    ada_cmatrix_vis.append(['FN = ' + str(value[0]), 'TP = ' + str(value[1])])\n",
    "\n",
    "#plot confusion matrix\n",
    "plt.figure(figsize=(8, 8));\n",
    "\n",
    "sns.heatmap(ada_cmatrix, annot=np.array(ada_cmatrix_vis), fmt='', \n",
    "            annot_kws={'size': 15}, linewidths=0.5, square=True, cmap='Blues', \n",
    "            xticklabels = ['Survive', 'Decease'], \n",
    "            yticklabels = ['Survive', 'Decease']\n",
    "            );\n",
    "\n",
    "plt.xlabel('Predicted Label', fontsize=15);\n",
    "plt.ylabel('Actual Label', fontsize=15);\n",
    "plt.title('AdaBoost Confusion Matrix\\n' + \n",
    "          'F1 score: {:.1f}'.format(ada_f1[1]) + \n",
    "          '\\nPrecision: {:.1f}'.format(ada_prec[1]) + \n",
    "          '\\nRecall: {:.1f}'.format(ada_recall[1]) + '\\n', \n",
    "          size=17\n",
    "          );\n",
    "plt.tick_params(labelsize=13);\n",
    "\n",
    "plt.savefig('gdrive/MyDrive/Colab Notebooks/GA-dsi23-capstone/plots/ada_confusion', bbox_inches=\"tight\", dpi=300)\n",
    "\n",
    "plt.show();"
   ]
  },
  {
   "cell_type": "markdown",
   "metadata": {
    "id": "npWJVMdZ44Rh"
   },
   "source": [
    "<a name='xgboost'></a>\n",
    "### XGBoost Classifier"
   ]
  },
  {
   "cell_type": "code",
   "execution_count": null,
   "metadata": {
    "colab": {
     "base_uri": "https://localhost:8080/"
    },
    "executionInfo": {
     "elapsed": 8049,
     "status": "ok",
     "timestamp": 1630792274008,
     "user": {
      "displayName": "Yi Li Tay",
      "photoUrl": "https://lh3.googleusercontent.com/a/default-user=s64",
      "userId": "02149373540801561311"
     },
     "user_tz": -480
    },
    "id": "5oVQQ-RiVmZL",
    "outputId": "e7ab688b-dbf9-4ff2-ccd8-e86300a560f3"
   },
   "outputs": [
    {
     "name": "stdout",
     "output_type": "stream",
     "text": [
      "Time taken to run: 7.53 seconds\n"
     ]
    }
   ],
   "source": [
    "#run start time in seconds\n",
    "start = time()\n",
    "\n",
    "# instantiate adaboost\n",
    "xgb = XGBClassifier()\n",
    "\n",
    "# list of params to run through randomizedsearchcv\n",
    "xgb_params = {'max_depth': [int(value) for value in np.linspace(start=1, stop=50, num=100)], \n",
    "              'subsample': [value.round(3) for value in np.linspace(start=0.1, stop=0.8, num=10)], \n",
    "              'n_estimator': [int(value) for value in np.linspace(start=2, stop=50, num=100)]\n",
    "              }\n",
    "\n",
    "# instantiate randomizedsearchcv\n",
    "random_xgb = RandomizedSearchCV(xgb, param_distributions=xgb_params, n_iter=100, cv=5, n_jobs=-1)\n",
    "\n",
    "# Fit the data into randomizedsearchcv\n",
    "random_xgb.fit(X_train_scale, y_train)\n",
    "\n",
    "# amount of time taken to run in seconds\n",
    "time_taken = time() - start\n",
    "print('Time taken to run:', round(time_taken, 2), 'seconds')"
   ]
  },
  {
   "cell_type": "code",
   "execution_count": null,
   "metadata": {
    "colab": {
     "base_uri": "https://localhost:8080/"
    },
    "executionInfo": {
     "elapsed": 10,
     "status": "ok",
     "timestamp": 1630792274008,
     "user": {
      "displayName": "Yi Li Tay",
      "photoUrl": "https://lh3.googleusercontent.com/a/default-user=s64",
      "userId": "02149373540801561311"
     },
     "user_tz": -480
    },
    "id": "IHBm_2FIDhgP",
    "outputId": "d29a1fb1-1a32-47e8-d75f-121c47409715"
   },
   "outputs": [
    {
     "name": "stdout",
     "output_type": "stream",
     "text": [
      "Best Parameters: {'subsample': 0.256, 'n_estimator': 24, 'max_depth': 4}\n"
     ]
    }
   ],
   "source": [
    "# The best params to used for the model\n",
    "random_xgb_best = random_xgb.best_params_\n",
    "\n",
    "print('Best Parameters:', random_xgb_best)"
   ]
  },
  {
   "cell_type": "markdown",
   "metadata": {
    "id": "3gTvBqBTDnoA"
   },
   "source": [
    "The optimal hyperparameters found for XGBoost are:\n",
    "- n_estimator = 24\n",
    "- max_depth = 4\n",
    "- subsample = 0.256\n",
    "\n",
    "We will run the model once again with the optimised values and pull out the required scores for evaluation and data visualisation."
   ]
  },
  {
   "cell_type": "code",
   "execution_count": null,
   "metadata": {
    "colab": {
     "base_uri": "https://localhost:8080/"
    },
    "executionInfo": {
     "elapsed": 280,
     "status": "ok",
     "timestamp": 1630792281783,
     "user": {
      "displayName": "Yi Li Tay",
      "photoUrl": "https://lh3.googleusercontent.com/a/default-user=s64",
      "userId": "02149373540801561311"
     },
     "user_tz": -480
    },
    "id": "1g_uO0hOVy95",
    "outputId": "129a0a6d-577d-48b5-8151-b195db8be328"
   },
   "outputs": [
    {
     "name": "stdout",
     "output_type": "stream",
     "text": [
      "XGBClassifier(base_score=0.5, booster='gbtree', colsample_bylevel=1,\n",
      "              colsample_bynode=1, colsample_bytree=1, gamma=0,\n",
      "              learning_rate=0.1, max_delta_step=0, max_depth=4,\n",
      "              min_child_weight=1, missing=None, n_estimator=24,\n",
      "              n_estimators=100, n_jobs=1, nthread=None,\n",
      "              objective='binary:logistic', random_state=0, reg_alpha=0,\n",
      "              reg_lambda=1, scale_pos_weight=1, seed=None, silent=None,\n",
      "              subsample=0.256, verbosity=1)\n",
      "\n",
      "XGBoost Train Accuracy: 0.862\n",
      "XGBoost Test Accuracy: 0.833\n",
      "\n",
      "XGBoost Classification Report:\n",
      "               precision    recall  f1-score   support\n",
      "\n",
      "           0       0.93      0.90      0.91        41\n",
      "           1       0.80      0.84      0.82        19\n",
      "\n",
      "    accuracy                           0.88        60\n",
      "   macro avg       0.86      0.87      0.87        60\n",
      "weighted avg       0.89      0.88      0.88        60\n",
      "\n"
     ]
    }
   ],
   "source": [
    "#instantiate xgboost\n",
    "xgb_optimal = XGBClassifier(max_depth=4, subsample=0.256, n_estimator=24)\n",
    "\n",
    "#fit model to training data\n",
    "xgb_optimal.fit(X_train_scale, y_train)\n",
    "\n",
    "#print model name to ensure it is working\n",
    "print(xgb_optimal)\n",
    "\n",
    "#predict classification using model\n",
    "xgb_ypred = xgb_optimal.predict(X_test_scale)\n",
    "\n",
    "#get train and test accuracy score of xgboost through cross validation with cv=5\n",
    "xgb_train_acc = cross_val_score(xgb_optimal, X_train_scale, y_train, cv=5).mean().round(3)\n",
    "xgb_test_acc = cross_val_score(xgb_optimal, X_test_scale, y_test, cv=5).mean().round(3)\n",
    "print('\\nXGBoost Train Accuracy:', xgb_train_acc)\n",
    "print('XGBoost Test Accuracy:', xgb_test_acc)\n",
    "\n",
    "#get classification report for y_pred compared to y_test\n",
    "xgb_report = classification_report(y_test, xgb_ypred)\n",
    "print('\\nXGBoost Classification Report:\\n', xgb_report)"
   ]
  },
  {
   "cell_type": "code",
   "execution_count": null,
   "metadata": {
    "colab": {
     "base_uri": "https://localhost:8080/",
     "height": 530
    },
    "executionInfo": {
     "elapsed": 1269,
     "status": "ok",
     "timestamp": 1630796305200,
     "user": {
      "displayName": "Yi Li Tay",
      "photoUrl": "https://lh3.googleusercontent.com/a/default-user=s64",
      "userId": "02149373540801561311"
     },
     "user_tz": -480
    },
    "id": "4A7M-LjADg8K",
    "outputId": "656a1ee4-6948-469b-f60a-714db473d6f7"
   },
   "outputs": [
    {
     "data": {
      "image/png": "[encoded data removed]",
      "text/plain": [
       "<Figure size 576x576 with 2 Axes>"
      ]
     },
     "metadata": {
      "needs_background": "light"
     },
     "output_type": "display_data"
    }
   ],
   "source": [
    "#confusion matrix of xgboost model\n",
    "xgb_cmatrix = confusion_matrix(y_test, xgb_ypred)\n",
    "\n",
    "#pulling individual classification report scores\n",
    "#each of these variables will return 2 values, 1 for each class --> the one we want is index 1 (predicted death by heart failure)\n",
    "xgb_prec, xgb_recall, xgb_f1, xgb_supp = score(y_test, xgb_ypred)\n",
    "\n",
    "#setting visualisations for confusion matrix\n",
    "xgb_cmatrix_vis = []\n",
    "for index, value in enumerate(xgb_cmatrix):\n",
    "  if index == 0:\n",
    "    xgb_cmatrix_vis.append(['TN = ' + str(value[0]), 'FP = ' + str(value[1])])\n",
    "  if index == 1:\n",
    "    xgb_cmatrix_vis.append(['FN = ' + str(value[0]), 'TP = ' + str(value[1])])\n",
    "\n",
    "#plot confusion matrix\n",
    "plt.figure(figsize=(8, 8));\n",
    "\n",
    "sns.heatmap(xgb_cmatrix, annot=np.array(xgb_cmatrix_vis), fmt='', \n",
    "            annot_kws={'size': 15}, linewidths=0.5, square=True, cmap='Blues', \n",
    "            xticklabels = ['Survive', 'Decease'], \n",
    "            yticklabels = ['Survive', 'Decease']\n",
    "            );\n",
    "\n",
    "plt.xlabel('Predicted Label', fontsize=15);\n",
    "plt.ylabel('Actual Label', fontsize=15);\n",
    "plt.title('XGBoost Confusion Matrix\\n' + \n",
    "          'F1 score: {:.1f}'.format(xgb_f1[1]) + \n",
    "          '\\nPrecision: {:.1f}'.format(xgb_prec[1]) + \n",
    "          '\\nRecall: {:.1f}'.format(xgb_recall[1]) + '\\n', \n",
    "          size=17\n",
    "          );\n",
    "plt.tick_params(labelsize=13);\n",
    "\n",
    "plt.savefig('gdrive/MyDrive/Colab Notebooks/GA-dsi23-capstone/plots/xgboost_confusion', bbox_inches=\"tight\", dpi=300)\n",
    "\n",
    "plt.show();"
   ]
  },
  {
   "cell_type": "markdown",
   "metadata": {
    "id": "07zbwUCH3w-T"
   },
   "source": [
    "<a name='eval'></a>\n",
    "## Evaluation"
   ]
  },
  {
   "cell_type": "markdown",
   "metadata": {
    "id": "q86Q4HnBaZEt"
   },
   "source": [
    "Recall that the classification of survival due to heart failure is classified as such:\n",
    "\n",
    "|Heart Failure Survival|Numerical Value in Dataframes|Class|\n",
    "|:---:|:---:|:---:|\n",
    "|**Decease**|1|Positive|\n",
    "|**Survive**|0|Negative|"
   ]
  },
  {
   "cell_type": "markdown",
   "metadata": {
    "id": "_qUXn2AnaZBM"
   },
   "source": [
    "The following are the metrics that we will use to decide the best model, in the same priority:\n",
    "1. F1 score\n",
    "2. Precision-Recall score\n",
    "3. Train-Test Accuracies (check for overfitting/underfitting)"
   ]
  },
  {
   "cell_type": "markdown",
   "metadata": {
    "id": "4fon_nbSaY7R"
   },
   "source": [
    "<a name='f1-score'></a>\n",
    "### F1 score\n",
    "\n",
    "$$F1 score  =  2 * \\frac{\\text{Precision * Recall}}{\\text{Precision + Recall}}$$\n",
    "\n",
    "The F1 score is the weighted average of the Precision-Recall scores. It is used for evaluation on a binary classification system and is a way to measure the model's accuracy on the dataset [(source)](https://deepai.org/machine-learning-glossary-and-terms/f-score). \n",
    "\n",
    "It is used to give a better perspective of which model performs the best. \n",
    "\n",
    "An F1 score of 0 means the model is as bad as it can get and a score of 1 means the model is perfect. **When comparing the F1 score, we want it to be as high as possible.**"
   ]
  },
  {
   "cell_type": "markdown",
   "metadata": {
    "id": "OpYt5lObbMRT"
   },
   "source": [
    "<a name='prec-recall'></a>\n",
    "\n",
    "### Precision-Recall score\n",
    "\n",
    "$$Precision = \\frac{\\text{True Positives}}{\\text{True Positives + False Positives}}$$\n",
    "\n",
    "**Precision** is the ratio of True Positives to All Predicted Positives. It means that of all the Positive predictions made by the model, what percentage of this is actually correct.\n",
    "\n",
    "Put simply in the context of this project, the higher the Precision score, the higher the number of patients that are predicted as deceased from heart failure actually did pass away.\n",
    "\n",
    "\n",
    "\n",
    "$$Recall = \\frac{\\text{True Positives}}{\\text{True Positives + False Negatives}}$$\n",
    "\n",
    "**Recall** is the ratio of True Positives to All Actual Positives. It shows the percentage of correctly classified Positive predictions by the model against all the positives in the dataset.\n",
    "\n",
    "Put simply in the context of this project, the higher the Recall score, the higher the number of patients who actually passed away from heart failure are correctly predicted by the model as deceased.\n",
    "\n",
    "<br>\n",
    "\n",
    "*Depending on the threshold that we set and the prediction that we want to priotitise, the will usually be a trade-off between the Precision and Recall scores. For this project, we prefer to predict that a higher number of patients be be 'deceased' from heart failure (which will increase the number of False Positives) to be on the safe side. This is due to the fact that the opposite of this (i.e. predicting that more patients will survive) might lead to lesser attention and resources allocated to those patients who are predicted as 'survive', which may be fatal.*\n",
    "\n",
    "**Therefore, if there is a need to choose between models with similar F1 scores, the model that has higher Recall score, even at the expense of lower Precision score, will be preferred.** This will help to reduce the chances of potentially fatal misclassifications of patients surviving (which means we want to reduce the number of False Negatives while increasing the number of False Positives)."
   ]
  },
  {
   "cell_type": "markdown",
   "metadata": {
    "id": "0ybqBEZUNBpz"
   },
   "source": [
    "<a name='accuracy'></a>\n",
    "\n",
    "### Train and Test Accuracy\n",
    "\n",
    "$$Accuracy = \\frac{\\text{True Positives + True Negatives}}{\\text{Total Predictions}}$$\n",
    "\n",
    "The dataset used in this project is imbalanced. Therefore, we will not use the Accuracy score as the main evaluation in deciding the best model.\n",
    "\n",
    "The reason for not using the Accuracy score as the main evaluation with an imbalanced dataset is because most models are designed with the assumption that the datasets to be used are balanced [(source)](https://machinelearningmastery.com/failure-of-accuracy-for-imbalanced-class-distributions/). \n",
    "\n",
    "The Accuracy score gives an overview of the model's prediction accuracy of both majority and minority class combined. \n",
    "\n",
    "With an imbalanced dataset, the model might be more proficient in classifying the majority class over the minority class since it would be better trained on the majority class due to having more data. The Accuracy score returned might then be misleading and potentially mask the model's inability to correctly classify the minority class.\n",
    "\n",
    "**As such, we will only use the Train and Test Accuracy within each model for comparison to check if the model is underfitted or overfitted.**\n",
    "\n",
    "Train Accuracy < Test Accuracy -- signifies that the model is underfitted.\n",
    "\n",
    "Train Accuracy > Test Accuracy -- signifies that the model is overfitted.\n",
    "\n",
    "The bigger the difference between the Train and Test Accuracy, the more severe the underfitting/overfitting. Therefore, the Train and Test Accuracy should be should be as similar to each other as possible."
   ]
  },
  {
   "cell_type": "markdown",
   "metadata": {
    "id": "UyE4A9FTGFxQ"
   },
   "source": [
    "<a name='models'></a>\n",
    "\n",
    "### Models Comparison\n",
    "\n",
    "\n"
   ]
  },
  {
   "cell_type": "markdown",
   "metadata": {
    "id": "Hh0E8yfZG6JN"
   },
   "source": [
    "|Models|F1-score|Precision|Recall|Train Accuracy|Test Accuracy|\n",
    "|:---:|:---:|:---:|:---:|:---:|:---:|\n",
    "|**Baseline**|0.722|0.765|0.684|0.820|0.833|\n",
    "|**Random Forest**|0.800|0.762|0.842|0.795|0.783|\n",
    "|**SVM**|0.757|0.778|0.737|0.816|0.850|\n",
    "|**AdaBoost**|0.727|0.857|0.631|0.849|0.733|\n",
    "|**XGBoost**|**0.821**|0.800|**0.842**|0.862|0.833|\n",
    "\n",
    "<br>\n",
    "\n",
    "The models that we will choose should first be able to beat the Baseline in terms of F1 score. At a glance, we see that all our tuned models have higher F1 score than the Baseline. **Therefore, we can conclude that all the tuned models are able to beat our Baseline.**\n",
    "\n",
    "Next, we compare between the models and pull out the model with the highest F1 score while not being severely underfitting/overfitting. **For this, we find that the XGBoost Classifier model fulfills this condition.**\n",
    "\n",
    "**The XGBoost Classifier model has the highest F1 score**, which indicates that out of all the models tested, the XGBoost Classifier model has the highest accuracy on the dataset and performs best overall.\n",
    "\n",
    "Looking more granularly into the scores, we find that **the XGBoost Classifier model has the highest value for the Recall score** out of all the models while also **maintaining a high value for its Precision score**. This means the model is very well rounded and does not sacrifice too much on Precision to get a high Recall, which is ideal.\n",
    "\n",
    "As the Recall score of the XGBoost Classifier model is higher than its Precision score, it signifies that the model predicts more False Positives (predict more patients as deceased) and less False Negatives (predict more patients as survive), which works in our favour since it allows us to be on the safer side and reduce potentially fatal misclassifications.\n",
    "\n",
    "Lastly, we compare the model's Train and Test Accuracy to check for underfitting/overfitting. The XGBoost Classifier model has a slightly higher Train Accuracy score than the Test Accuracy, indicating slight overfitting. However, the difference between the Train and Test Accuracy is approximately 0.03, which means the overfitting is not very severe and is tolerable as compared to the other models.\n",
    "\n",
    "**Therefore, based on the comparison of the metrics, we choose to use the XGBoost Classifier model moving forward.**"
   ]
  },
  {
   "cell_type": "code",
   "execution_count": null,
   "metadata": {
    "colab": {
     "base_uri": "https://localhost:8080/"
    },
    "executionInfo": {
     "elapsed": 413,
     "status": "ok",
     "timestamp": 1630792663184,
     "user": {
      "displayName": "Yi Li Tay",
      "photoUrl": "https://lh3.googleusercontent.com/a/default-user=s64",
      "userId": "02149373540801561311"
     },
     "user_tz": -480
    },
    "id": "v79NjOG1lJkH",
    "outputId": "4c1b5a12-4064-4672-8c16-3fa756b17e2e"
   },
   "outputs": [
    {
     "name": "stdout",
     "output_type": "stream",
     "text": [
      "\n",
      "Baseline\n",
      "Precision: 0.7647058823529411 \n",
      "Recall: 0.6842105263157895 \n",
      "F1 score: 0.7222222222222222 \n",
      "Train Accuracy: 0.82 \n",
      "Test Accuracy: 0.833\n",
      "\n",
      "Random Forest\n",
      "Precision: 0.7619047619047619 \n",
      "Recall: 0.8421052631578947 \n",
      "F1 score: 0.8 \n",
      "Train Accuracy: 0.795 \n",
      "Test Accuracy: 0.783\n",
      "\n",
      "SVM\n",
      "Precision: 0.7777777777777778 \n",
      "Recall: 0.7368421052631579 \n",
      "F1 score: 0.7567567567567567 \n",
      "Train Accuracy: 0.816 \n",
      "Test Accuracy: 0.85\n",
      "\n",
      "AdaBoost\n",
      "Precision: 0.8571428571428571 \n",
      "Recall: 0.631578947368421 \n",
      "F1 score: 0.7272727272727273 \n",
      "Train Accuracy: 0.849 \n",
      "Test Accuracy: 0.733\n",
      "\n",
      "XGBoost\n",
      "Precision: 0.8 \n",
      "Recall: 0.8421052631578947 \n",
      "F1 score: 0.8205128205128205 \n",
      "Train Accuracy: 0.862 \n",
      "Test Accuracy: 0.833\n"
     ]
    }
   ],
   "source": [
    "print('\\nBaseline\\n' + 'Precision:', base_prec[1], '\\nRecall:', base_recall[1], \n",
    "      '\\nF1 score:', base_f1[1], '\\nTrain Accuracy:', base_train_acc, '\\nTest Accuracy:', base_test_acc)\n",
    "\n",
    "print('\\nRandom Forest\\n' + 'Precision:', rf_prec[1], '\\nRecall:', rf_recall[1], \n",
    "      '\\nF1 score:', rf_f1[1], '\\nTrain Accuracy:', rf_train_acc, '\\nTest Accuracy:', rf_test_acc)\n",
    "\n",
    "print('\\nSVM\\n' + 'Precision:', svm_prec[1], '\\nRecall:', svm_recall[1], \n",
    "      '\\nF1 score:', svm_f1[1], '\\nTrain Accuracy:', svm_train_acc, '\\nTest Accuracy:', svm_test_acc)\n",
    "\n",
    "print('\\nAdaBoost\\n' + 'Precision:', ada_prec[1], '\\nRecall:', ada_recall[1], \n",
    "      '\\nF1 score:', ada_f1[1], '\\nTrain Accuracy:', ada_train_acc, '\\nTest Accuracy:', ada_test_acc)\n",
    "\n",
    "print('\\nXGBoost\\n' + 'Precision:', xgb_prec[1], '\\nRecall:', xgb_recall[1], \n",
    "      '\\nF1 score:', xgb_f1[1], '\\nTrain Accuracy:', xgb_train_acc, '\\nTest Accuracy:', xgb_test_acc)"
   ]
  },
  {
   "cell_type": "code",
   "execution_count": null,
   "metadata": {
    "id": "N6QnFlx95TfC"
   },
   "outputs": [],
   "source": [
    "#create 4 variables to save the model names, f1 score, the recall score and the precision scores of every model for plotting later\n",
    "models = ['Baseline', 'Random Forest', 'SVM', 'AdaBoost', 'XGBoost']\n",
    "f1_all = [base_f1[1].round(3), rf_f1[1].round(3), svm_f1[1].round(3), ada_f1[1].round(3), xgb_f1[1].round(3)]\n",
    "recall_all = [base_recall[1].round(3), rf_recall[1].round(3), svm_recall[1].round(3), ada_recall[1].round(3), xgb_recall[1].round(3)]\n",
    "prec_all = [base_prec[1].round(3), rf_prec[1].round(3), svm_prec[1].round(3), ada_prec[1].round(3), xgb_prec[1].round(3)]\n"
   ]
  },
  {
   "cell_type": "code",
   "execution_count": null,
   "metadata": {
    "colab": {
     "base_uri": "https://localhost:8080/",
     "height": 420
    },
    "executionInfo": {
     "elapsed": 1305,
     "status": "ok",
     "timestamp": 1630796330515,
     "user": {
      "displayName": "Yi Li Tay",
      "photoUrl": "https://lh3.googleusercontent.com/a/default-user=s64",
      "userId": "02149373540801561311"
     },
     "user_tz": -480
    },
    "id": "LySX0teD7voS",
    "outputId": "fc4a12af-e5b5-4475-f555-66cf66bd6dc3"
   },
   "outputs": [
    {
     "data": {
      "image/png": "[encoded data removed]",
      "text/plain": [
       "<Figure size 720x432 with 1 Axes>"
      ]
     },
     "metadata": {
      "needs_background": "light"
     },
     "output_type": "display_data"
    }
   ],
   "source": [
    "#plotting barplots for f1 to show scores of each model for easier comparison\n",
    "plt.rcParams['figure.figsize']=10,6\n",
    "f1_all_plt = sns.barplot(x=models, y=f1_all, palette='Set2')\n",
    "\n",
    "f1_all_plt.set_title('F1 Scores of All Models', fontsize=17, pad=10);\n",
    "f1_all_plt.set_xlabel('Models', fontsize=14, labelpad=8);\n",
    "f1_all_plt.set_ylabel('F1 Score', fontsize=14, labelpad=8);\n",
    "\n",
    "#for loop to add in values above each bar\n",
    "for values in f1_all_plt.patches:\n",
    "  #pull width and height for each bar\n",
    "  width, height = values.get_width(), values.get_height();\n",
    "  \n",
    "  #pull x and y value for each bar\n",
    "  x, y = values.get_xy();\n",
    "  \n",
    "  #add in values for the bars and adjust position of each value\n",
    "  f1_all_plt.annotate(s=height, xy=(x+width/2, y+height*1.01), ha='center', fontsize=12);\n",
    "\n",
    "plt.savefig('gdrive/MyDrive/Colab Notebooks/GA-dsi23-capstone/plots/f1_all', bbox_inches=\"tight\", dpi=300)\n",
    "\n",
    "plt.show();"
   ]
  },
  {
   "cell_type": "code",
   "execution_count": null,
   "metadata": {
    "colab": {
     "base_uri": "https://localhost:8080/",
     "height": 420
    },
    "executionInfo": {
     "elapsed": 1336,
     "status": "ok",
     "timestamp": 1630796345204,
     "user": {
      "displayName": "Yi Li Tay",
      "photoUrl": "https://lh3.googleusercontent.com/a/default-user=s64",
      "userId": "02149373540801561311"
     },
     "user_tz": -480
    },
    "id": "kLQJ2V5j7vj6",
    "outputId": "5fbea78c-68a5-488e-d402-06075ddd72f1"
   },
   "outputs": [
    {
     "data": {
      "image/png": "[encoded data removed]",
      "text/plain": [
       "<Figure size 720x432 with 1 Axes>"
      ]
     },
     "metadata": {
      "needs_background": "light"
     },
     "output_type": "display_data"
    }
   ],
   "source": [
    "#plotting barplots for recall to show scores of each model for easier comparison\n",
    "plt.rcParams['figure.figsize']=10,6\n",
    "recall_all_plt = sns.barplot(x=models, y=recall_all, palette='Set2')\n",
    "\n",
    "recall_all_plt.set_title('Recall Scores of All Models', fontsize=17, pad=10);\n",
    "recall_all_plt.set_xlabel('Models', fontsize=14, labelpad=8);\n",
    "recall_all_plt.set_ylabel('Recall Score', fontsize=14, labelpad=8);\n",
    "\n",
    "#for loop to add in values above each bar\n",
    "for values in recall_all_plt.patches:\n",
    "  #pull width and height for each bar\n",
    "  width, height = values.get_width(), values.get_height();\n",
    "  \n",
    "  #pull x and y value for each bar\n",
    "  x, y = values.get_xy();\n",
    "  \n",
    "  #add in values for the bars and adjust position of each value\n",
    "  recall_all_plt.annotate(s=height, xy=(x+width/2, y+height*1.01), ha='center', fontsize=12);\n",
    "\n",
    "plt.savefig('gdrive/MyDrive/Colab Notebooks/GA-dsi23-capstone/plots/recall_all', bbox_inches=\"tight\", dpi=300)\n",
    "\n",
    "plt.show();"
   ]
  },
  {
   "cell_type": "code",
   "execution_count": null,
   "metadata": {
    "colab": {
     "base_uri": "https://localhost:8080/",
     "height": 420
    },
    "executionInfo": {
     "elapsed": 1435,
     "status": "ok",
     "timestamp": 1630796357757,
     "user": {
      "displayName": "Yi Li Tay",
      "photoUrl": "https://lh3.googleusercontent.com/a/default-user=s64",
      "userId": "02149373540801561311"
     },
     "user_tz": -480
    },
    "id": "UAnREyoe7vfL",
    "outputId": "7b65d109-1490-4f69-e3d1-153ac3bde332"
   },
   "outputs": [
    {
     "data": {
      "image/png": "[encoded data removed]",
      "text/plain": [
       "<Figure size 720x432 with 1 Axes>"
      ]
     },
     "metadata": {
      "needs_background": "light"
     },
     "output_type": "display_data"
    }
   ],
   "source": [
    "#plotting barplots for precision to show scores of each model for easier comparison\n",
    "plt.rcParams['figure.figsize']=10,6\n",
    "prec_all_plt = sns.barplot(x=models, y=prec_all, palette='Set2')\n",
    "\n",
    "prec_all_plt.set_title('Precision Scores of All Models', fontsize=17, pad=10);\n",
    "prec_all_plt.set_xlabel('Models', fontsize=14, labelpad=8);\n",
    "prec_all_plt.set_ylabel('Precision Score', fontsize=14, labelpad=8);\n",
    "\n",
    "#for loop to add in values above each bar\n",
    "for values in prec_all_plt.patches:\n",
    "  #pull width and height for each bar\n",
    "  width, height = values.get_width(), values.get_height();\n",
    "  \n",
    "  #pull x and y value for each bar\n",
    "  x, y = values.get_xy();\n",
    "  \n",
    "  #add in values for the bars and adjust position of each value\n",
    "  prec_all_plt.annotate(s=height, xy=(x+width/2, y+height*1.01), ha='center', fontsize=12);\n",
    "\n",
    "plt.savefig('gdrive/MyDrive/Colab Notebooks/GA-dsi23-capstone/plots/precision_all', bbox_inches=\"tight\", dpi=300)\n",
    "\n",
    "plt.show();"
   ]
  },
  {
   "cell_type": "markdown",
   "metadata": {
    "id": "4a5fr4rU39dA"
   },
   "source": [
    "<a name='chosen'></a>\n",
    "\n",
    "### Chosen Model Hyperparameters\n",
    "\n",
    "The optimised hyperparameters for the **XGBoost Classifier model** found are shown below.\n",
    "\n",
    "- n_estimator = 24\n",
    "- max_depth = 4\n",
    "- subsample = 0.256\n",
    "\n",
    "Further tuning of the hyperparameters can be done to improve on the scores and reduce on overfitting."
   ]
  },
  {
   "cell_type": "code",
   "execution_count": null,
   "metadata": {
    "colab": {
     "base_uri": "https://localhost:8080/",
     "height": 530
    },
    "executionInfo": {
     "elapsed": 719,
     "status": "ok",
     "timestamp": 1630793571659,
     "user": {
      "displayName": "Yi Li Tay",
      "photoUrl": "https://lh3.googleusercontent.com/a/default-user=s64",
      "userId": "02149373540801561311"
     },
     "user_tz": -480
    },
    "id": "qqEDV5JF3xKt",
    "outputId": "2bdc6a1a-b5c8-486e-fe4b-c9d74efcc2c8"
   },
   "outputs": [
    {
     "data": {
      "image/png": "[encoded data removed]",
      "text/plain": [
       "<Figure size 576x576 with 2 Axes>"
      ]
     },
     "metadata": {
      "needs_background": "light"
     },
     "output_type": "display_data"
    }
   ],
   "source": [
    "#confusion matrix of xgboost model\n",
    "xgb_cmatrix = confusion_matrix(y_test, xgb_ypred)\n",
    "\n",
    "#pulling individual classification report scores\n",
    "#each of these variables will return 2 values, 1 for each class --> the one we want is index 1 (predicted death by heart failure)\n",
    "xgb_prec, xgb_recall, xgb_f1, xgb_supp = score(y_test, xgb_ypred)\n",
    "\n",
    "#setting visualisations for confusion matrix\n",
    "xgb_cmatrix_vis = []\n",
    "for index, value in enumerate(xgb_cmatrix):\n",
    "  if index == 0:\n",
    "    xgb_cmatrix_vis.append(['TN = ' + str(value[0]), 'FP = ' + str(value[1])])\n",
    "  if index == 1:\n",
    "    xgb_cmatrix_vis.append(['FN = ' + str(value[0]), 'TP = ' + str(value[1])])\n",
    "\n",
    "#plot confusion matrix\n",
    "plt.figure(figsize=(8, 8));\n",
    "\n",
    "sns.heatmap(xgb_cmatrix, annot=np.array(xgb_cmatrix_vis), fmt='', \n",
    "            annot_kws={'size': 15}, linewidths=0.5, square=True, cmap='Blues', \n",
    "            xticklabels = ['Survive', 'Decease'], \n",
    "            yticklabels = ['Survive', 'Decease']\n",
    "            );\n",
    "\n",
    "plt.xlabel('Predicted Label', fontsize=15);\n",
    "plt.ylabel('Actual Label', fontsize=15);\n",
    "plt.title('XGBoost Confusion Matrix\\n' + \n",
    "          'F1 score: {:.1f}'.format(xgb_f1[1]) + \n",
    "          '\\nPrecision: {:.1f}'.format(xgb_prec[1]) + \n",
    "          '\\nRecall: {:.1f}'.format(xgb_recall[1]) + '\\n', \n",
    "          size=17\n",
    "          );\n",
    "plt.tick_params(labelsize=13);\n",
    "\n",
    "plt.show();"
   ]
  },
  {
   "cell_type": "markdown",
   "metadata": {
    "id": "NHupm4Vh35J-"
   },
   "source": [
    "<a name='conclusion-rec'></a>\n",
    "## Conclusion and Recommendations"
   ]
  },
  {
   "cell_type": "markdown",
   "metadata": {
    "id": "_Uh3qQHY42Ou"
   },
   "source": [
    "It was revealed during the EDA that many of the features in the original dataset, while originally thought to have a larger impact on the predictions, turned out to have very little correlation with our target variable, the death event. The features eventually chosen and used in the modelling were age, ejection fraction, serum creatine and time. These features were chosen as they had a correlation above an absolute value of 0.25 with the target variable.\n",
    "\n",
    "The models were evaluated based on various metrics such as the F1 score, the Precision-Recall score and the Train/Test Accuracy. \n",
    "\n",
    "We prioritised finding the model with the highest F1 score since it is an indication of the model's accuracy on the dataset and performance as a whole. \n",
    "\n",
    "We also paid special attention to the Recall score. The reason for this is because Recall score is sensitive to the number of False Negatives, which in this project where we predict mortality by heart failure, is something that we want to reduce as much as possible. \n",
    "\n",
    "For False Negatives, what it essentially means is that we wrongly predicted that the patient's condition is not as severe and that they will survive, but in reality they actually succumbed to heart failure. This is a deadly misclassification as it might result in the patient not receiving earlier care and attention that may have potentially saved their life.\n",
    "\n",
    "With this in mind, we paid special attention to get as high a Recall score as possible. \n",
    "\n",
    "Comparing the metrics, we found the XGBoost Classifier model to be the best performer with 82% F1 score, 84% Recall, 80% Precision, 86% Train Accuracy and 83% Test Accuracy. \n",
    "\n",
    "The model may serve as an aid for easier identification of the patients most at risk of mortality from heart failure and allow doctors and nurses to better focus their attention and allocate resources to the patients who needs it most."
   ]
  },
  {
   "cell_type": "markdown",
   "metadata": {
    "id": "NLqMuLx8k4PZ"
   },
   "source": [
    "Recommendations for the improvement of results include:\n",
    "- Further tuning of hyperparameters to achieve more accurate predictions\n",
    "- More rows of data to train model with since current dataset is relatively small\n",
    "- More specific details on patients' underlying conditions like subtypes of diseases\n",
    "\n",
    "\n",
    "Recomendations for further development beyond the current project include:\n",
    "- Create a model that can reflect the severity of patients' conditions and generate likelihood of mortality from heart failure\n",
    "- Apply model to predict other types of causes of deaths such stroke\n"
   ]
  }
 ],
 "metadata": {
  "colab": {
   "authorship_tag": "ABX9TyOFs6h5L5ErREZlyYKzQf5y",
   "collapsed_sections": [],
   "mount_file_id": "1fKjUfyFFKdD0lTvKW9Sol4E5MKQO3mfl",
   "name": "Capstone-Part2.ipynb",
   "provenance": []
  },
  "kernelspec": {
   "display_name": "Python 3",
   "language": "python",
   "name": "python3"
  },
  "language_info": {
   "codemirror_mode": {
    "name": "ipython",
    "version": 3
   },
   "file_extension": ".py",
   "mimetype": "text/x-python",
   "name": "python",
   "nbconvert_exporter": "python",
   "pygments_lexer": "ipython3",
   "version": "3.8.8"
  }
 },
 "nbformat": 4,
 "nbformat_minor": 1
}
